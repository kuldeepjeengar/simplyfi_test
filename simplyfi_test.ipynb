{
 "cells": [
  {
   "cell_type": "markdown",
   "id": "d590fdb9",
   "metadata": {},
   "source": [
    "# question-1\n",
    "# write a python code for converting integer values to Indian currency notations, without using the currency libraries..?\n",
    "\n"
   ]
  },
  {
   "cell_type": "code",
   "execution_count": 19,
   "id": "ad9710c9",
   "metadata": {},
   "outputs": [],
   "source": [
    "def convert_to_indian_currency(number):\n",
    "    number_str = str(number)[::-1]\n",
    "    groups = [number_str[i:i+2] for i in range(0, len(number_str), 2)]\n",
    "    indian_currency = \",\".join(groups)[::-1]\n",
    "    return indian_currency\n",
    "     \n",
    "#-The code defines a function called convert_to_indian_currency that takes a number as input.\n",
    "#-It converts the number to a string and reverses it using slicing ([::-1]). For example, the number 123456789 will become the string '987654321'.\n",
    "#-The reversed string is divided into groups of two digits each using list comprehension. For example, the string '987654321' will be divided into ['98', '76', '54', '32', '1'].\n",
    "#-The groups are then joined together using commas and reversed again to get the desired Indian currency format. For example, the groups ['98', '76', '54', '32', '1'] will be joined as '98,76,54,32,1' and reversed to '1,32,54,76,98'.\n",
    "\n",
    "    \n",
    "    \n",
    "\n"
   ]
  },
  {
   "cell_type": "code",
   "execution_count": 15,
   "id": "7793e481",
   "metadata": {},
   "outputs": [
    {
     "data": {
      "text/plain": [
       "'1,23,45,67,45,36,57,57,81,00,00,00'"
      ]
     },
     "execution_count": 15,
     "metadata": {},
     "output_type": "execute_result"
    }
   ],
   "source": [
    "convert_to_indian_currency(12345674536575781000000)"
   ]
  },
  {
   "cell_type": "markdown",
   "id": "71b43722",
   "metadata": {},
   "source": [
    "# Question -2\n"
   ]
  },
  {
   "cell_type": "code",
   "execution_count": null,
   "id": "123fed2a",
   "metadata": {},
   "outputs": [],
   "source": [
    "\n"
   ]
  },
  {
   "cell_type": "code",
   "execution_count": 25,
   "id": "1a088fe7",
   "metadata": {},
   "outputs": [
    {
     "name": "stdout",
     "output_type": "stream",
     "text": [
      "3\n",
      "4 10\n",
      "2 13 4 16\n",
      "2\n",
      "5 8\n",
      "9 3 8 8 4\n",
      "1\n",
      "4 6\n",
      "1 2 3 4\n",
      "0\n"
     ]
    }
   ],
   "source": [
    "def minimum_players_shot(test_cases):\n",
    "    for _ in range(test_cases):        \n",
    "        n, k = map(int, input().split())\n",
    "        heights = list(map(int, input().split()))        \n",
    "        count = 0\n",
    "        for height in heights:\n",
    "            if height > k:\n",
    "                count += 1               \n",
    "        print(count)\n",
    "t = int(input())\n",
    "minimum_players_shot(t)\n",
    "\n",
    "#The code defines a function called minimum_players_shot that takes the number of test cases as input (test_cases).\n",
    "#It starts a loop that runs test_cases number of times. This loop is used to handle multiple test cases.\n",
    "#Within each iteration of the loop, the code performs the following steps:\n",
    "#It reads two integers, n and k, from the input. These values represent the number of players (n) and the minimum height required (k).\n",
    "#It reads a list of n integers representing the heights of the players.\n",
    "#It initializes a variable count to keep track of the number of players whose height is greater than k.\n",
    "#It loops through each player's height in the heights list and checks if the height is greater than k. If it is, it increments the count variable by 1.\n",
    "#After processing all the players' heights, it prints the final value of count, which represents the number of players whose height is greater than k.\n",
    "#Finally, the code outside the loop reads an integer t from the input, which represents the number of test cases, and calls the minimum_players_shot function with t as the argument.\n",
    "#In summary, this code takes the number of test cases as input, and fo"
   ]
  },
  {
   "cell_type": "code",
   "execution_count": null,
   "id": "4cec0b4e",
   "metadata": {},
   "outputs": [],
   "source": [
    "\n"
   ]
  },
  {
   "cell_type": "code",
   "execution_count": null,
   "id": "c2afb3bd",
   "metadata": {},
   "outputs": [],
   "source": []
  }
 ],
 "metadata": {
  "kernelspec": {
   "display_name": "Python 3 (ipykernel)",
   "language": "python",
   "name": "python3"
  },
  "language_info": {
   "codemirror_mode": {
    "name": "ipython",
    "version": 3
   },
   "file_extension": ".py",
   "mimetype": "text/x-python",
   "name": "python",
   "nbconvert_exporter": "python",
   "pygments_lexer": "ipython3",
   "version": "3.10.9"
  }
 },
 "nbformat": 4,
 "nbformat_minor": 5
}
